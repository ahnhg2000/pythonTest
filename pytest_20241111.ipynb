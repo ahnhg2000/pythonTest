{
  "nbformat": 4,
  "nbformat_minor": 0,
  "metadata": {
    "colab": {
      "provenance": [],
      "authorship_tag": "ABX9TyMo65xJNMGrzNcfkjO49OlI",
      "include_colab_link": true
    },
    "kernelspec": {
      "name": "python3",
      "display_name": "Python 3"
    },
    "language_info": {
      "name": "python"
    }
  },
  "cells": [
    {
      "cell_type": "markdown",
      "metadata": {
        "id": "view-in-github",
        "colab_type": "text"
      },
      "source": [
        "<a href=\"https://colab.research.google.com/github/ahnhg2000/pythonTest/blob/main/pytest_20241111.ipynb\" target=\"_parent\"><img src=\"https://colab.research.google.com/assets/colab-badge.svg\" alt=\"Open In Colab\"/></a>"
      ]
    },
    {
      "cell_type": "code",
      "execution_count": 1,
      "metadata": {
        "colab": {
          "base_uri": "https://localhost:8080/"
        },
        "id": "5-9IYcmsi-U8",
        "outputId": "9fd1a9ec-2b0e-47e1-f5e3-2be7d64b312d"
      },
      "outputs": [
        {
          "output_type": "stream",
          "name": "stdout",
          "text": [
            "당신의 나이를 입력하세요: \n",
            "30\n",
            "당신의 나이는 30세 입니다.\n"
          ]
        }
      ],
      "source": [
        "age = int(input(\"당신의 나이를 입력하세요: \\n\"))\n",
        "print(\"당신의 나이는 %d세 입니다.\"%(age))"
      ]
    },
    {
      "cell_type": "markdown",
      "source": [],
      "metadata": {
        "id": "odx8-v13k_-z"
      }
    },
    {
      "cell_type": "code",
      "source": [],
      "metadata": {
        "id": "9x89w4KhjxUu"
      },
      "execution_count": null,
      "outputs": []
    }
  ]
}